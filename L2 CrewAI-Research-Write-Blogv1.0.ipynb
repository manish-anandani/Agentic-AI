{
 "cells": [
  {
   "cell_type": "code",
   "execution_count": null,
   "metadata": {
    "id": "F1YbOmDeX54_"
   },
   "outputs": [],
   "source": [
    "# !pip install crewai==0.28.8 crewai_tools==0.1.6 langchain_community==0.0.29"
   ]
  },
  {
   "cell_type": "code",
   "execution_count": null,
   "metadata": {
    "id": "19ZKDp6HYxBN"
   },
   "outputs": [],
   "source": [
    "import os\n",
    "os.environ[\"OPENAI_API_KEY\"] = 'OPENAI_API_KEY'\n",
    "os.environ[\"SERPER_API_KEY\"] = 'SERPER_API_KEY'\n",
    "os.environ[\"EXA_API_KEY\"] = 'EXA_API_KEY'\n",
    "os.environ[\"GOOGLE_API_KEY\"] = 'OPENAI_API_KEY'"
   ]
  },
  {
   "cell_type": "code",
   "execution_count": null,
   "metadata": {
    "id": "6HW-x2tlZCvb"
   },
   "outputs": [],
   "source": [
    "from crewai import Agent, Task, Crew"
   ]
  },
  {
   "cell_type": "code",
   "execution_count": 15,
   "metadata": {
    "executionInfo": {
     "elapsed": 9,
     "status": "ok",
     "timestamp": 1751783143418,
     "user": {
      "displayName": "Manish Anandani",
      "userId": "08523544298333254203"
     },
     "user_tz": -330
    },
    "id": "xehF9HB8ZH0W"
   },
   "outputs": [],
   "source": [
    "import os\n",
    "# from utils import get_openai_api_key\n",
    "\n",
    "openai_api_key = os.environ.get(\"OPENAI_API_KEY\")\n",
    "os.environ[\"OPENAI_MODEL_NAME\"] = 'gpt-3.5-turbo'\n",
    "# print(openai_api_key)"
   ]
  },
  {
   "cell_type": "code",
   "execution_count": 27,
   "metadata": {
    "executionInfo": {
     "elapsed": 160,
     "status": "ok",
     "timestamp": 1751784625454,
     "user": {
      "displayName": "Manish Anandani",
      "userId": "08523544298333254203"
     },
     "user_tz": -330
    },
    "id": "DGM-czHIaX8f"
   },
   "outputs": [],
   "source": [
    "planner = Agent(\n",
    "    role=\"Content Planner\",\n",
    "    goal=\"Plan engaging and factually accurate content on {topic}\",\n",
    "    backstory=\"You're working on planning a LinkedIn post \"\n",
    "              \"about the topic: {topic}.\"\n",
    "              \"You collect information that helps the \"\n",
    "              \"audience learn something \"\n",
    "              \"and make informed decisions. \"\n",
    "              \"Your work is the basis for \"\n",
    "              \"the Content Writer to write a LinkedIn post on this topic.\",\n",
    "    allow_delegation=False,\n",
    "\tverbose=True\n",
    ")"
   ]
  },
  {
   "cell_type": "code",
   "execution_count": 28,
   "metadata": {
    "executionInfo": {
     "elapsed": 135,
     "status": "ok",
     "timestamp": 1751784627818,
     "user": {
      "displayName": "Manish Anandani",
      "userId": "08523544298333254203"
     },
     "user_tz": -330
    },
    "id": "98nZzX5Vac87"
   },
   "outputs": [],
   "source": [
    "writer = Agent(\n",
    "    role=\"Content Writer\",\n",
    "    goal=\"Write insightful and factually accurate \"\n",
    "         \"LinkedIn post about the topic: {topic}\",\n",
    "    backstory=\"You're working on writing \"\n",
    "              \"a new LinkedIn post about the topic: {topic}. \"\n",
    "              \"You base your writing on the work of \"\n",
    "              \"the Content Planner, who provides an outline \"\n",
    "              \"and relevant context about the topic. \"\n",
    "              \"You follow the main objectives and \"\n",
    "              \"direction of the outline, \"\n",
    "              \"as provide by the Content Planner. \"\n",
    "              \"You also provide objective and impartial insights \"\n",
    "              \"and back them up with information \"\n",
    "              \"provide by the Content Planner. \"\n",
    "              \"You add relevant icons and visualizations as needed\"\n",
    "              \"You acknowledge in your LinkedIn post \"\n",
    "              \"when your statements are opinions \"\n",
    "              \"as opposed to objective statements.\",\n",
    "    allow_delegation=False,\n",
    "    verbose=True\n",
    ")"
   ]
  },
  {
   "cell_type": "code",
   "execution_count": 36,
   "metadata": {
    "executionInfo": {
     "elapsed": 127,
     "status": "ok",
     "timestamp": 1751784761474,
     "user": {
      "displayName": "Manish Anandani",
      "userId": "08523544298333254203"
     },
     "user_tz": -330
    },
    "id": "Cx5eiXRpagko"
   },
   "outputs": [],
   "source": [
    "editor = Agent(\n",
    "    role=\"Editor\",\n",
    "    goal=\"Edit a given LinkedIn post to align with \"\n",
    "         \"the writing style of the organization. \",\n",
    "    backstory=\"You are an editor who receives a LinkedIn post \"\n",
    "              \"from the Content Writer. \"\n",
    "              \"Your goal is to review the LinkedIn post \"\n",
    "              \"to ensure that it follows journalistic best practices,\"\n",
    "              \"provides balanced viewpoints \"\n",
    "              \"when providing opinions or assertions, \"\n",
    "              \"and also avoids major controversial topics \"\n",
    "              \"or opinions when possible.\"\n",
    "              \"You ensure that the post is not more than 100 words\",\n",
    "    allow_delegation=False,\n",
    "    verbose=True\n",
    ")"
   ]
  },
  {
   "cell_type": "code",
   "execution_count": 30,
   "metadata": {
    "executionInfo": {
     "elapsed": 8,
     "status": "ok",
     "timestamp": 1751784632666,
     "user": {
      "displayName": "Manish Anandani",
      "userId": "08523544298333254203"
     },
     "user_tz": -330
    },
    "id": "9geGcx4UakEd"
   },
   "outputs": [],
   "source": [
    "plan = Task(\n",
    "    description=(\n",
    "        \"1. Prioritize the latest trends, key players, \"\n",
    "            \"and noteworthy news on {topic}.\\n\"\n",
    "        \"2. Identify the target audience, considering \"\n",
    "            \"their interests and pain points.\\n\"\n",
    "        \"3. Develop a detailed content outline including \"\n",
    "            \"an introduction, key points, and a call to action.\\n\"\n",
    "        \"4. Include SEO keywords and relevant data or sources.\"\n",
    "    ),\n",
    "    expected_output=\"A comprehensive content plan document \"\n",
    "        \"with an outline, audience analysis, \"\n",
    "        \"SEO keywords, and resources.\",\n",
    "    agent=planner,\n",
    ")"
   ]
  },
  {
   "cell_type": "code",
   "execution_count": 45,
   "metadata": {
    "executionInfo": {
     "elapsed": 3,
     "status": "ok",
     "timestamp": 1751785187211,
     "user": {
      "displayName": "Manish Anandani",
      "userId": "08523544298333254203"
     },
     "user_tz": -330
    },
    "id": "BVtJsnylanLr"
   },
   "outputs": [],
   "source": [
    "write = Task(\n",
    "    description=(\n",
    "        \"1. Use the content plan to craft a compelling \"\n",
    "            \"LinkedIn post on {topic}.\\n\"\n",
    "        \"2. Incorporate SEO keywords naturally.\\n\"\n",
    "\t\t    \"3. Sections/Subtitles are properly named \"\n",
    "            \"in an engaging manner.\\n\"\n",
    "        \"4. Ensure the post is structured with an \"\n",
    "            \"engaging introduction, insightful body, \"\n",
    "            \"and a summarizing conclusion.\\n\"\n",
    "        \"5. Proofread for grammatical errors and \"\n",
    "            \"alignment with the brand's voice.\\n\"\n",
    "    ),\n",
    "    expected_output=\"A well-written LinkedIn post \"\n",
    "        \"in markdown format, ready for publication, \"\n",
    "        \"summarized to 1 paragraphs.\",\n",
    "    agent=writer,\n",
    ")"
   ]
  },
  {
   "cell_type": "code",
   "execution_count": 46,
   "metadata": {
    "executionInfo": {
     "elapsed": 16,
     "status": "ok",
     "timestamp": 1751785189439,
     "user": {
      "displayName": "Manish Anandani",
      "userId": "08523544298333254203"
     },
     "user_tz": -330
    },
    "id": "DiiDx4aOaqZu"
   },
   "outputs": [],
   "source": [
    "edit = Task(\n",
    "    description=(\"Proofread the given LinkedIn post for \"\n",
    "                 \"grammatical errors and \"\n",
    "                 \"alignment with the brand's voice.\"),\n",
    "    expected_output=\"A well-written LinkedIn post in markdown format, \"\n",
    "                    \"ready for publication, \"\n",
    "                    \"should be summarized to 1 paragraphs.\",\n",
    "    agent=editor\n",
    ")"
   ]
  },
  {
   "cell_type": "code",
   "execution_count": 47,
   "metadata": {
    "colab": {
     "base_uri": "https://localhost:8080/"
    },
    "executionInfo": {
     "elapsed": 22,
     "status": "ok",
     "timestamp": 1751785196364,
     "user": {
      "displayName": "Manish Anandani",
      "userId": "08523544298333254203"
     },
     "user_tz": -330
    },
    "id": "5okiBue0atHS",
    "outputId": "2670ff62-53fc-49b7-c23d-f3857fb919d5"
   },
   "outputs": [
    {
     "name": "stderr",
     "output_type": "stream",
     "text": [
      "WARNING:opentelemetry.trace:Overriding of current TracerProvider is not allowed\n"
     ]
    }
   ],
   "source": [
    "crew = Crew(\n",
    "    agents=[planner, writer, editor],\n",
    "    tasks=[plan, write, edit],\n",
    "    verbose=2\n",
    ")"
   ]
  },
  {
   "cell_type": "code",
   "execution_count": 52,
   "metadata": {
    "colab": {
     "base_uri": "https://localhost:8080/"
    },
    "executionInfo": {
     "elapsed": 9832,
     "status": "ok",
     "timestamp": 1751785383486,
     "user": {
      "displayName": "Manish Anandani",
      "userId": "08523544298333254203"
     },
     "user_tz": -330
    },
    "id": "afqE7-wkawHJ",
    "outputId": "99472a73-48cc-4ed0-8931-0eed47262953"
   },
   "outputs": [
    {
     "name": "stdout",
     "output_type": "stream",
     "text": [
      "\u001b[1m\u001b[95m [DEBUG]: == Working Agent: Content Planner\u001b[00m\n",
      "\u001b[1m\u001b[95m [INFO]: == Starting Task: 1. Prioritize the latest trends, key players, and noteworthy news on Open Learning.\n",
      "2. Identify the target audience, considering their interests and pain points.\n",
      "3. Develop a detailed content outline including an introduction, key points, and a call to action.\n",
      "4. Include SEO keywords and relevant data or sources.\u001b[00m\n",
      "\n",
      "\n",
      "\u001b[1m> Entering new CrewAgentExecutor chain...\u001b[0m\n",
      "\u001b[32;1m\u001b[1;3mI now can give a great answer\n",
      "\n",
      "Final Answer: \n",
      "\n",
      "Content Plan: \n",
      "Title: Embracing Open Learning: Key Trends and Strategies for Success\n",
      "\n",
      "Outline:\n",
      "Introduction\n",
      "- Definition of Open Learning\n",
      "- Importance of Open Learning in the digital age\n",
      "\n",
      "Key Points\n",
      "1. Latest Trends in Open Learning\n",
      "- Rise of online learning platforms and MOOCs\n",
      "- Increased focus on microlearning and personalized learning experiences\n",
      "- Integration of AI and machine learning in adaptive learning technologies\n",
      "\n",
      "2. Key Players in Open Learning\n",
      "- Leading online learning platforms such as Coursera, Udemy, and Khan Academy\n",
      "- Universities offering open online courses and certifications\n",
      "- Corporations investing in employee training and development through open learning initiatives\n",
      "\n",
      "3. Noteworthy News in Open Learning\n",
      "- Recent research studies on the effectiveness of open learning methods\n",
      "- Success stories of individuals and organizations leveraging open learning for skill development and growth\n",
      "\n",
      "Audience Analysis:\n",
      "Target Audience: Professionals seeking continuous learning opportunities, students looking to supplement their education, and organizations interested in implementing open learning programs.\n",
      "Interests: Lifelong learning, skill development, career advancement, education technology\n",
      "Pain Points: Lack of access to quality education, limited resources for professional development, need for up-to-date skills in a rapidly changing job market\n",
      "\n",
      "SEO Keywords:\n",
      "- Open Learning\n",
      "- Online Learning\n",
      "- MOOCs\n",
      "- Personalized Learning\n",
      "- Skill Development\n",
      "- Continuous Learning\n",
      "\n",
      "Resources:\n",
      "1. \"The Future of Learning: How Technology is Revolutionizing Education\" - Forbes\n",
      "2. \"The Impact of Open Learning on Workforce Development\" - Harvard Business Review\n",
      "3. \"Top Online Learning Platforms to Enhance Your Skills\" - Inc.\n",
      "\n",
      "Call to Action:\n",
      "Embrace the power of open learning today and start your journey towards continuous growth and development. Explore the latest trends, connect with key players, and stay informed with the latest news in the world of open learning. Start your learning journey now! \n",
      "\n",
      "This comprehensive content plan includes an outline, audience analysis, SEO keywords, and relevant resources to guide the creation of a compelling LinkedIn post on the topic of Open Learning.\u001b[0m\n",
      "\n",
      "\u001b[1m> Finished chain.\u001b[0m\n",
      "\u001b[1m\u001b[92m [DEBUG]: == [Content Planner] Task output: Content Plan: \n",
      "Title: Embracing Open Learning: Key Trends and Strategies for Success\n",
      "\n",
      "Outline:\n",
      "Introduction\n",
      "- Definition of Open Learning\n",
      "- Importance of Open Learning in the digital age\n",
      "\n",
      "Key Points\n",
      "1. Latest Trends in Open Learning\n",
      "- Rise of online learning platforms and MOOCs\n",
      "- Increased focus on microlearning and personalized learning experiences\n",
      "- Integration of AI and machine learning in adaptive learning technologies\n",
      "\n",
      "2. Key Players in Open Learning\n",
      "- Leading online learning platforms such as Coursera, Udemy, and Khan Academy\n",
      "- Universities offering open online courses and certifications\n",
      "- Corporations investing in employee training and development through open learning initiatives\n",
      "\n",
      "3. Noteworthy News in Open Learning\n",
      "- Recent research studies on the effectiveness of open learning methods\n",
      "- Success stories of individuals and organizations leveraging open learning for skill development and growth\n",
      "\n",
      "Audience Analysis:\n",
      "Target Audience: Professionals seeking continuous learning opportunities, students looking to supplement their education, and organizations interested in implementing open learning programs.\n",
      "Interests: Lifelong learning, skill development, career advancement, education technology\n",
      "Pain Points: Lack of access to quality education, limited resources for professional development, need for up-to-date skills in a rapidly changing job market\n",
      "\n",
      "SEO Keywords:\n",
      "- Open Learning\n",
      "- Online Learning\n",
      "- MOOCs\n",
      "- Personalized Learning\n",
      "- Skill Development\n",
      "- Continuous Learning\n",
      "\n",
      "Resources:\n",
      "1. \"The Future of Learning: How Technology is Revolutionizing Education\" - Forbes\n",
      "2. \"The Impact of Open Learning on Workforce Development\" - Harvard Business Review\n",
      "3. \"Top Online Learning Platforms to Enhance Your Skills\" - Inc.\n",
      "\n",
      "Call to Action:\n",
      "Embrace the power of open learning today and start your journey towards continuous growth and development. Explore the latest trends, connect with key players, and stay informed with the latest news in the world of open learning. Start your learning journey now! \n",
      "\n",
      "This comprehensive content plan includes an outline, audience analysis, SEO keywords, and relevant resources to guide the creation of a compelling LinkedIn post on the topic of Open Learning.\n",
      "\n",
      "\u001b[00m\n",
      "\u001b[1m\u001b[95m [DEBUG]: == Working Agent: Content Writer\u001b[00m\n",
      "\u001b[1m\u001b[95m [INFO]: == Starting Task: 1. Use the content plan to craft a compelling LinkedIn post on Open Learning.\n",
      "2. Incorporate SEO keywords naturally.\n",
      "3. Sections/Subtitles are properly named in an engaging manner.\n",
      "4. Ensure the post is structured with an engaging introduction, insightful body, and a summarizing conclusion.\n",
      "5. Proofread for grammatical errors and alignment with the brand's voice.\n",
      "\u001b[00m\n",
      "\n",
      "\n",
      "\u001b[1m> Entering new CrewAgentExecutor chain...\u001b[0m\n",
      "\u001b[32;1m\u001b[1;3mI now can craft a compelling LinkedIn post on Open Learning that incorporates SEO keywords, engages the audience, and aligns with the content plan provided.\n",
      "\n",
      "Final Answer:\n",
      "# Embracing Open Learning: Key Trends and Strategies for Success\n",
      "\n",
      "In today's digital age, Open Learning has become a crucial component for professionals seeking continuous growth and students supplementing their education. The rise of online learning platforms and MOOCs, along with a focus on microlearning and personalized experiences, has revolutionized the way we acquire knowledge. Integrating AI and machine learning further enhances adaptive learning technologies, making education more tailored and effective. Key players like Coursera, Udemy, and Khan Academy, as well as universities and corporations, are investing in open learning initiatives to meet the demands of a rapidly changing job market. Recent research studies highlight the effectiveness of open learning methods, showcasing success stories of individuals and organizations leveraging these strategies for skill development and growth. Embrace the power of open learning today to embark on a journey of continuous learning and development. Start exploring the latest trends, connecting with key players, and staying informed with the latest news in the world of open learning. Your learning journey begins now! \n",
      "\n",
      "Remember to continuously proofread for grammatical errors and ensure alignment with the brand's voice.\u001b[0m\n",
      "\n",
      "\u001b[1m> Finished chain.\u001b[0m\n",
      "\u001b[1m\u001b[92m [DEBUG]: == [Content Writer] Task output: # Embracing Open Learning: Key Trends and Strategies for Success\n",
      "\n",
      "In today's digital age, Open Learning has become a crucial component for professionals seeking continuous growth and students supplementing their education. The rise of online learning platforms and MOOCs, along with a focus on microlearning and personalized experiences, has revolutionized the way we acquire knowledge. Integrating AI and machine learning further enhances adaptive learning technologies, making education more tailored and effective. Key players like Coursera, Udemy, and Khan Academy, as well as universities and corporations, are investing in open learning initiatives to meet the demands of a rapidly changing job market. Recent research studies highlight the effectiveness of open learning methods, showcasing success stories of individuals and organizations leveraging these strategies for skill development and growth. Embrace the power of open learning today to embark on a journey of continuous learning and development. Start exploring the latest trends, connecting with key players, and staying informed with the latest news in the world of open learning. Your learning journey begins now! \n",
      "\n",
      "Remember to continuously proofread for grammatical errors and ensure alignment with the brand's voice.\n",
      "\n",
      "\u001b[00m\n",
      "\u001b[1m\u001b[95m [DEBUG]: == Working Agent: Editor\u001b[00m\n",
      "\u001b[1m\u001b[95m [INFO]: == Starting Task: Proofread the given LinkedIn post for grammatical errors and alignment with the brand's voice.\u001b[00m\n",
      "\n",
      "\n",
      "\u001b[1m> Entering new CrewAgentExecutor chain...\u001b[0m\n",
      "\u001b[32;1m\u001b[1;3mI now can give a great answer\n",
      "\n",
      "Final Answer: \n",
      "# Embracing Open Learning: Key Trends and Strategies for Success\n",
      "\n",
      "In today's digital age, Open Learning plays a crucial role for professionals and students alike. Online platforms like Coursera, Udemy, and Khan Academy, along with the focus on microlearning and personalized experiences, have transformed how we acquire knowledge. The integration of AI and machine learning enhances adaptive learning technologies, making education more effective. Recent research studies showcase the success of open learning methods in skill development and growth. Embrace open learning today to start your journey of continuous development and explore the latest trends in the field. Your learning journey begins now!\u001b[0m\n",
      "\n",
      "\u001b[1m> Finished chain.\u001b[0m\n",
      "\u001b[1m\u001b[92m [DEBUG]: == [Editor] Task output: # Embracing Open Learning: Key Trends and Strategies for Success\n",
      "\n",
      "In today's digital age, Open Learning plays a crucial role for professionals and students alike. Online platforms like Coursera, Udemy, and Khan Academy, along with the focus on microlearning and personalized experiences, have transformed how we acquire knowledge. The integration of AI and machine learning enhances adaptive learning technologies, making education more effective. Recent research studies showcase the success of open learning methods in skill development and growth. Embrace open learning today to start your journey of continuous development and explore the latest trends in the field. Your learning journey begins now!\n",
      "\n",
      "\u001b[00m\n"
     ]
    }
   ],
   "source": [
    "result = crew.kickoff(inputs={\"topic\": \"Open Learning\"})"
   ]
  },
  {
   "cell_type": "code",
   "execution_count": 53,
   "metadata": {
    "colab": {
     "base_uri": "https://localhost:8080/",
     "height": 169
    },
    "executionInfo": {
     "elapsed": 15,
     "status": "ok",
     "timestamp": 1751785389623,
     "user": {
      "displayName": "Manish Anandani",
      "userId": "08523544298333254203"
     },
     "user_tz": -330
    },
    "id": "ugj5Q0Oya0tB",
    "outputId": "057e641f-2138-4d9d-c0cd-586d9e7ac047"
   },
   "outputs": [
    {
     "data": {
      "text/markdown": [
       "# Embracing Open Learning: Key Trends and Strategies for Success\n",
       "\n",
       "In today's digital age, Open Learning plays a crucial role for professionals and students alike. Online platforms like Coursera, Udemy, and Khan Academy, along with the focus on microlearning and personalized experiences, have transformed how we acquire knowledge. The integration of AI and machine learning enhances adaptive learning technologies, making education more effective. Recent research studies showcase the success of open learning methods in skill development and growth. Embrace open learning today to start your journey of continuous development and explore the latest trends in the field. Your learning journey begins now!"
      ],
      "text/plain": [
       "<IPython.core.display.Markdown object>"
      ]
     },
     "execution_count": 53,
     "metadata": {},
     "output_type": "execute_result"
    }
   ],
   "source": [
    "from IPython.display import Markdown\n",
    "Markdown(result)"
   ]
  }
 ],
 "metadata": {
  "colab": {
   "authorship_tag": "ABX9TyNh1XrnTplJkVA7lRUtx+ML",
   "provenance": []
  },
  "kernelspec": {
   "display_name": "Python 3",
   "name": "python3"
  },
  "language_info": {
   "name": "python"
  }
 },
 "nbformat": 4,
 "nbformat_minor": 0
}
